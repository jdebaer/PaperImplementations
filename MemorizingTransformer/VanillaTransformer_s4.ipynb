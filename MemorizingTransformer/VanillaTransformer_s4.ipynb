{
 "cells": [
  {
   "cell_type": "code",
   "execution_count": 4,
   "id": "918d4ce0-3189-45b8-bc51-27124e5aa1ee",
   "metadata": {},
   "outputs": [],
   "source": [
    "# 4 adds the MHA as a class - we need to keep Attn Head as a class, why? Because each has Wq/Wk/Wv\n",
    "\n",
    "import torch\n",
    "import torch.nn as nn\n",
    "import torch.nn.functional as F\n",
    "from math import sqrt\n",
    "\n",
    "class MHSelfAttn(nn.Module):\n",
    "    def __init__(self, embed_dim, num_attn_heads):\n",
    "        super().__init__()\n",
    "        attn_head_input_dim = embed_dim\n",
    "        attn_head_output_dim = embed_dim // num_attn_heads\n",
    "\n",
    "        # Just add self..\n",
    "        self.Wo = nn.Linear(embed_dim, embed_dim)\n",
    "\n",
    "        # Just add self..\n",
    "        self.attn_heads = nn.ModuleList(\n",
    "            [AttnHead(attn_head_input_dim, attn_head_output_dim) for _ in range(num_attn_heads)]\n",
    "        )\n",
    "\n",
    "\n",
    "    def forward(self, input_data):\n",
    "\n",
    "        \n",
    "        # Refer to attn_heads with self..\n",
    "        concatenated_head_context_vectors = torch.cat(\n",
    "               [attn_head(input_data) for attn_head in self.attn_heads], dim=-1\n",
    "        )\n",
    "        # Refer to Wo with self..\n",
    "        multihead_context_vector = self.Wo(concatenated_head_context_vectors)\n",
    "\n",
    "        # return it\n",
    "        return multihead_context_vector\n",
    "\n",
    "\n",
    "# The rest does not change from 3 - this is the AttenHead Class from 3:\n",
    "\n",
    "class AttnHead(nn.Module):\n",
    "\n",
    "    def __init__(self, attn_head_input_dim, attn_head_output_dim):\n",
    "        super().__init__()\n",
    "\n",
    "        # Just add self..\n",
    "        self.Wq = nn.Linear(attn_head_input_dim, attn_head_output_dim, bias=False) \n",
    "        self.Wk = nn.Linear(attn_head_input_dim, attn_head_output_dim, bias=False)\n",
    "        self.Wv = nn.Linear(attn_head_input_dim, attn_head_output_dim, bias=False) \n",
    "\n",
    "    def forward(self, input_data):\n",
    "\n",
    "        # Just add self..\n",
    "        queries = self.Wq(input_data)     \n",
    "        keys = self.Wk(input_data)\n",
    "        values = self.Wv(input_data)\n",
    "\n",
    "        dim_of_key = keys.size(-1) \n",
    "        attn_scores = queries @ keys.transpose(-2,-1)/sqrt(dim_of_key) \n",
    "        mask = torch.ones((attn_scores.shape[-1], attn_scores.shape[-1]), dtype=torch.bool).triu(diagonal=1)\n",
    "        attn_scores = attn_scores.masked_fill(mask, float(\"-inf\"))\n",
    "        attn_weights = F.softmax(attn_scores, dim = -1)\n",
    "        head_context_vector = attn_weights@values \n",
    "        return head_context_vector       "
   ]
  },
  {
   "cell_type": "code",
   "execution_count": 5,
   "id": "08b343d7-620a-480c-93e7-e46b843ed52b",
   "metadata": {},
   "outputs": [
    {
     "data": {
      "text/plain": [
       "torch.Size([16, 512, 256])"
      ]
     },
     "execution_count": 5,
     "metadata": {},
     "output_type": "execute_result"
    }
   ],
   "source": [
    "# No diff from 3:\n",
    "seq_len = 512\n",
    "embed_dim = 256\n",
    "num_attn_heads = 2\n",
    "batch_size = 16\n",
    "\n",
    "input_data = torch.randn(batch_size, seq_len, embed_dim)\n",
    "\n",
    "mha = MHSelfAttn(embed_dim, num_attn_heads)\n",
    "\n",
    "output = mha(input_data)\n",
    "\n",
    "output.shape"
   ]
  },
  {
   "cell_type": "code",
   "execution_count": null,
   "id": "8cfca018-a82c-4b1a-ad95-4fa1a8fdf736",
   "metadata": {},
   "outputs": [],
   "source": [
    "# Step 5: plug this MHSelfAttn in in the training loop"
   ]
  }
 ],
 "metadata": {
  "kernelspec": {
   "display_name": "Python 3 (ipykernel)",
   "language": "python",
   "name": "python3"
  },
  "language_info": {
   "codemirror_mode": {
    "name": "ipython",
    "version": 3
   },
   "file_extension": ".py",
   "mimetype": "text/x-python",
   "name": "python",
   "nbconvert_exporter": "python",
   "pygments_lexer": "ipython3",
   "version": "3.11.9"
  }
 },
 "nbformat": 4,
 "nbformat_minor": 5
}
