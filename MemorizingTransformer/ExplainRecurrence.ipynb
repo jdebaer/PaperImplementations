{
 "cells": [
  {
   "cell_type": "code",
   "execution_count": 1,
   "id": "34448184-6ce2-4b14-83a6-53182b8156c6",
   "metadata": {},
   "outputs": [],
   "source": [
    "import torch\n",
    "import torch.nn as nn\n",
    "import torch.nn.functional as F\n",
    "import numpy as np\n",
    "from einops import rearrange, repeat, pack, unpack, einsum\n",
    "\n",
    "b_s = 16\n",
    "seq_len = 512\n",
    "head_dim = 10\n",
    "num_attn_heads = 8\n",
    "embed_dim = 13 \n"
   ]
  },
  {
   "cell_type": "code",
   "execution_count": 6,
   "id": "3da1be2b-e17e-472a-a6e7-bcea8346d4f4",
   "metadata": {},
   "outputs": [
    {
     "name": "stdout",
     "output_type": "stream",
     "text": [
      "torch.Size([16, 512, 80])\n",
      "torch.Size([16, 1024, 80])\n"
     ]
    },
    {
     "data": {
      "text/plain": [
       "torch.Size([16, 1024, 80])"
      ]
     },
     "execution_count": 6,
     "metadata": {},
     "output_type": "execute_result"
    }
   ],
   "source": [
    "# Create some fake traininig data\n",
    "\n",
    "input_data = torch.randn(b_s, seq_len, embed_dim)\n",
    "\n",
    "Wq = nn.Linear(embed_dim, num_attn_heads * head_dim, bias=False)\n",
    "Wk = nn.Linear(embed_dim, num_attn_heads * head_dim, bias=False)\n",
    "Wv = nn.Linear(embed_dim, num_attn_heads * head_dim, bias=False)\n",
    "Wo = nn.Linear(num_attn_heads * head_dim, embed_dim) # Look up why Wo can hava a bias term\n",
    "\n",
    "queries = Wq(input_data)\n",
    "keys = Wk(input_data)\n",
    "values = Wv(input_data)\n",
    "\n",
    "# The above is all the same, now we're goint to add fake recurrence\n",
    "\n",
    "recurrence = torch.randn(b_s, seq_len, 2, num_attn_heads * head_dim)\n",
    "\n",
    "recurrence_keys, recurrence_values = recurrence.unbind(dim=-2) # Each of the 2 has dim (b_s, seq_len, num_attn_heads * head_dim)\n",
    "\n",
    "xl_keys = torch.cat((recurrence_keys, keys), dim=-2) # Prepend the recurrence keys to the keys along the seq_len dimension (-2)\n",
    "# So we are basically doubling the seq_len\n",
    "\n",
    "xl_values = torch.cat((recurrence_values, values), dim=-2)\n",
    "\n",
    "print(queries.shape)  # torch.Size([16, 512, 80])\n",
    "print(xl_keys.shape)  # torch.Size([16, 1024, 80])\n",
    "xl_values.shape       # torch.Size([16, 1024, 80])\n",
    "\n",
    "\n",
    "\n",
    "\n"
   ]
  }
 ],
 "metadata": {
  "kernelspec": {
   "display_name": "Python 3 (ipykernel)",
   "language": "python",
   "name": "python3"
  },
  "language_info": {
   "codemirror_mode": {
    "name": "ipython",
    "version": 3
   },
   "file_extension": ".py",
   "mimetype": "text/x-python",
   "name": "python",
   "nbconvert_exporter": "python",
   "pygments_lexer": "ipython3",
   "version": "3.11.9"
  }
 },
 "nbformat": 4,
 "nbformat_minor": 5
}
